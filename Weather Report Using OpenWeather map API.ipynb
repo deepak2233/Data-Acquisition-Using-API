{
 "cells": [
  {
   "cell_type": "code",
   "execution_count": 32,
   "metadata": {},
   "outputs": [
    {
     "name": "stdout",
     "output_type": "stream",
     "text": [
      "Enter city name : Bangalore\n",
      "-------------------------------------------------------------\n",
      "Weather Stats for - BANGALORE  || 08 Dec 2020 | 07:48:41 PM\n",
      "-------------------------------------------------------------\n",
      "Current temperature is: 22.40 deg C\n",
      "Current weather desc  : broken clouds\n",
      "Current Humidity      : 78 %\n",
      "Current wind speed    : 2.1 kmph\n"
     ]
    }
   ],
   "source": [
    "import requests\n",
    "import os\n",
    "from datetime import datetime\n",
    "location = input(\"Enter city name : \")\n",
    "complete_api_link = 'http://api.openweathermap.org/data/2.5/weather?q={}&appid=a2933bad146cf1fd32e74cf0d61aa6d3&units=metric'.format(location)\n",
    "api_link = requests.get(complete_api_link)\n",
    "api_data = api_link.json()\n",
    "#print(api_data)\n",
    "\n",
    "#create variables to store and display data\n",
    "temp_city = ((api_data['main']['temp']))\n",
    "weather_desc = api_data['weather'][0]['description']\n",
    "hmdt = api_data['main']['humidity']\n",
    "wind_spd = api_data['wind']['speed']\n",
    "date_time = datetime.now().strftime(\"%d %b %Y | %I:%M:%S %p\")\n",
    "\n",
    "print (\"-------------------------------------------------------------\")\n",
    "print (\"Weather Stats for - {}  || {}\".format(location.upper(), date_time))\n",
    "print (\"-------------------------------------------------------------\")\n",
    "\n",
    "print (\"Current temperature is: {:.2f} deg C\".format(temp_city))\n",
    "print (\"Current weather desc  :\",weather_desc)\n",
    "print (\"Current Humidity      :\",hmdt, '%')\n",
    "print (\"Current wind speed    :\",wind_spd ,'kmph')\n"
   ]
  },
  {
   "cell_type": "code",
   "execution_count": 33,
   "metadata": {},
   "outputs": [
    {
     "name": "stdout",
     "output_type": "stream",
     "text": [
      "Enter city name : Jharkhand\n",
      "-------------------------------------------------------------\n",
      "Weather Stats for - JHARKHAND  || 08 Dec 2020 | 07:48:59 PM\n",
      "-------------------------------------------------------------\n",
      "Current temperature is: 21.00 deg C\n",
      "Current weather desc  : haze\n",
      "Current Humidity      : 46 %\n",
      "Current wind speed    : 2.04 kmph\n"
     ]
    }
   ],
   "source": [
    "import requests\n",
    "import os\n",
    "from datetime import datetime\n",
    "location = input(\"Enter city name : \")\n",
    "complete_api_link = 'http://api.openweathermap.org/data/2.5/weather?q={}&appid=a2933bad146cf1fd32e74cf0d61aa6d3&units=metric'.format(location)\n",
    "api_link = requests.get(complete_api_link)\n",
    "api_data = api_link.json()\n",
    "#print(api_data)\n",
    "\n",
    "#create variables to store and display data\n",
    "temp_city = ((api_data['main']['temp']))\n",
    "weather_desc = api_data['weather'][0]['description']\n",
    "hmdt = api_data['main']['humidity']\n",
    "wind_spd = api_data['wind']['speed']\n",
    "date_time = datetime.now().strftime(\"%d %b %Y | %I:%M:%S %p\")\n",
    "\n",
    "print (\"-------------------------------------------------------------\")\n",
    "print (\"Weather Stats for - {}  || {}\".format(location.upper(), date_time))\n",
    "print (\"-------------------------------------------------------------\")\n",
    "\n",
    "print (\"Current temperature is: {:.2f} deg C\".format(temp_city))\n",
    "print (\"Current weather desc  :\",weather_desc)\n",
    "print (\"Current Humidity      :\",hmdt, '%')\n",
    "print (\"Current wind speed    :\",wind_spd ,'kmph')\n"
   ]
  },
  {
   "cell_type": "code",
   "execution_count": 34,
   "metadata": {},
   "outputs": [
    {
     "name": "stdout",
     "output_type": "stream",
     "text": [
      "Enter city name : Uttarakhand\n",
      "-------------------------------------------------------------\n",
      "Weather Stats for - UTTARAKHAND  || 08 Dec 2020 | 07:49:07 PM\n",
      "-------------------------------------------------------------\n",
      "Current temperature is: 13.20 deg C\n",
      "Current weather desc  : clear sky\n",
      "Current Humidity      : 38 %\n",
      "Current wind speed    : 0.8 kmph\n"
     ]
    }
   ],
   "source": [
    "import requests\n",
    "import os\n",
    "from datetime import datetime\n",
    "location = input(\"Enter city name : \")\n",
    "complete_api_link = 'http://api.openweathermap.org/data/2.5/weather?q={}&appid=a2933bad146cf1fd32e74cf0d61aa6d3&units=metric'.format(location)\n",
    "api_link = requests.get(complete_api_link)\n",
    "api_data = api_link.json()\n",
    "#print(api_data)\n",
    "\n",
    "#create variables to store and display data\n",
    "temp_city = ((api_data['main']['temp']))\n",
    "weather_desc = api_data['weather'][0]['description']\n",
    "hmdt = api_data['main']['humidity']\n",
    "wind_spd = api_data['wind']['speed']\n",
    "date_time = datetime.now().strftime(\"%d %b %Y | %I:%M:%S %p\")\n",
    "\n",
    "print (\"-------------------------------------------------------------\")\n",
    "print (\"Weather Stats for - {}  || {}\".format(location.upper(), date_time))\n",
    "print (\"-------------------------------------------------------------\")\n",
    "\n",
    "print (\"Current temperature is: {:.2f} deg C\".format(temp_city))\n",
    "print (\"Current weather desc  :\",weather_desc)\n",
    "print (\"Current Humidity      :\",hmdt, '%')\n",
    "print (\"Current wind speed    :\",wind_spd ,'kmph')\n"
   ]
  },
  {
   "cell_type": "code",
   "execution_count": 35,
   "metadata": {},
   "outputs": [
    {
     "name": "stdout",
     "output_type": "stream",
     "text": [
      "Enter city name : Punjab\n",
      "-------------------------------------------------------------\n",
      "Weather Stats for - PUNJAB  || 08 Dec 2020 | 07:49:24 PM\n",
      "-------------------------------------------------------------\n",
      "Current temperature is: 18.22 deg C\n",
      "Current weather desc  : clear sky\n",
      "Current Humidity      : 47 %\n",
      "Current wind speed    : 4.88 kmph\n"
     ]
    }
   ],
   "source": [
    "import requests\n",
    "import os\n",
    "from datetime import datetime\n",
    "location = input(\"Enter city name : \")\n",
    "complete_api_link = 'http://api.openweathermap.org/data/2.5/weather?q={}&appid=a2933bad146cf1fd32e74cf0d61aa6d3&units=metric'.format(location)\n",
    "api_link = requests.get(complete_api_link)\n",
    "api_data = api_link.json()\n",
    "#print(api_data)\n",
    "\n",
    "#create variables to store and display data\n",
    "temp_city = ((api_data['main']['temp']))\n",
    "weather_desc = api_data['weather'][0]['description']\n",
    "hmdt = api_data['main']['humidity']\n",
    "wind_spd = api_data['wind']['speed']\n",
    "date_time = datetime.now().strftime(\"%d %b %Y | %I:%M:%S %p\")\n",
    "\n",
    "print (\"-------------------------------------------------------------\")\n",
    "print (\"Weather Stats for - {}  || {}\".format(location.upper(), date_time))\n",
    "print (\"-------------------------------------------------------------\")\n",
    "\n",
    "print (\"Current temperature is: {:.2f} deg C\".format(temp_city))\n",
    "print (\"Current weather desc  :\",weather_desc)\n",
    "print (\"Current Humidity      :\",hmdt, '%')\n",
    "print (\"Current wind speed    :\",wind_spd ,'kmph')\n"
   ]
  },
  {
   "cell_type": "code",
   "execution_count": null,
   "metadata": {},
   "outputs": [],
   "source": []
  }
 ],
 "metadata": {
  "kernelspec": {
   "display_name": "Python 3",
   "language": "python",
   "name": "python3"
  },
  "language_info": {
   "codemirror_mode": {
    "name": "ipython",
    "version": 3
   },
   "file_extension": ".py",
   "mimetype": "text/x-python",
   "name": "python",
   "nbconvert_exporter": "python",
   "pygments_lexer": "ipython3",
   "version": "3.7.6"
  }
 },
 "nbformat": 4,
 "nbformat_minor": 4
}
